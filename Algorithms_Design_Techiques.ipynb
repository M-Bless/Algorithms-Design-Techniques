{
  "nbformat": 4,
  "nbformat_minor": 0,
  "metadata": {
    "colab": {
      "provenance": [],
      "authorship_tag": "ABX9TyMj1GATcHPlQnQQlvnvPi+J",
      "include_colab_link": true
    },
    "kernelspec": {
      "name": "python3",
      "display_name": "Python 3"
    },
    "language_info": {
      "name": "python"
    }
  },
  "cells": [
    {
      "cell_type": "markdown",
      "metadata": {
        "id": "view-in-github",
        "colab_type": "text"
      },
      "source": [
        "<a href=\"https://colab.research.google.com/github/M-Bless/Algorithms-Design-Techniques/blob/main/Algorithms_Design_Techiques.ipynb\" target=\"_parent\"><img src=\"https://colab.research.google.com/assets/colab-badge.svg\" alt=\"Open In Colab\"/></a>"
      ]
    },
    {
      "cell_type": "markdown",
      "source": [
        "#Simple Recursive Technique"
      ],
      "metadata": {
        "id": "RnF6MNqyo-Rr"
      }
    },
    {
      "cell_type": "markdown",
      "source": [
        "Finding the sum of numbers in range\n",
        "for example from 1 to 10"
      ],
      "metadata": {
        "id": "YWli7XOiqNvT"
      }
    },
    {
      "cell_type": "code",
      "execution_count": 3,
      "metadata": {
        "colab": {
          "base_uri": "https://localhost:8080/"
        },
        "id": "7mhXJlHsoTkg",
        "outputId": "bc082eee-01a7-46d1-c65c-c962d52eb111"
      },
      "outputs": [
        {
          "output_type": "stream",
          "name": "stdout",
          "text": [
            "55\n"
          ]
        }
      ],
      "source": [
        "def find_sum(n):\n",
        "   if n==1:\n",
        "     return 1\n",
        "   else:\n",
        "     return n+find_sum(n-1)\n",
        "print(find_sum(10))\n",
        ""
      ]
    },
    {
      "cell_type": "markdown",
      "source": [
        "Factorial"
      ],
      "metadata": {
        "id": "Rc_xu4O8o8dL"
      }
    },
    {
      "cell_type": "code",
      "source": [
        "def factorial(n):\n",
        "  if n==1:\n",
        "    return 1\n",
        "  else:\n",
        "    return n*factorial(n-1)\n",
        "print(factorial(4))\n"
      ],
      "metadata": {
        "colab": {
          "base_uri": "https://localhost:8080/"
        },
        "id": "H0IzDNjJo6-u",
        "outputId": "83cbf125-8d9d-49fa-ba5c-ada922426b00"
      },
      "execution_count": 5,
      "outputs": [
        {
          "output_type": "stream",
          "name": "stdout",
          "text": [
            "24\n"
          ]
        }
      ]
    },
    {
      "cell_type": "markdown",
      "source": [
        "#Backtracking Algorithm"
      ],
      "metadata": {
        "id": "Jd9woOk6IQwz"
      }
    },
    {
      "cell_type": "code",
      "source": [
        "def backtracking(state):\n",
        "  if state==solution:\n",
        "    return state\n",
        "\n",
        "    for choice in all_possible_choices:\n",
        "      if choice_is_valid:\n",
        "        make_choice(choice)\n",
        "        result=backtracking(state+choice)\n",
        "        if result is not failure:\n",
        "          return result\n",
        "        else:\n",
        "          undo_choice\n",
        "      return failure"
      ],
      "metadata": {
        "id": "7X_SgM7hqXhB"
      },
      "execution_count": 9,
      "outputs": []
    },
    {
      "cell_type": "markdown",
      "source": [
        "#Divide and Conquer"
      ],
      "metadata": {
        "id": "GwgPVL6fRO6t"
      }
    },
    {
      "cell_type": "code",
      "source": [
        "def find_max(a,l,h):\n",
        "  if a==1:\n",
        "    return a[0]\n",
        "  if l>h:\n",
        "    return float\n",
        "  if l==h:\n",
        "    return a[l]\n",
        "  mid=(l+h)//2\n",
        "  max_left=find_max(a,l,mid)\n",
        "  max_right=find_max(a,mid+1,h)\n",
        "  return find_max(max_left,max_right)\n"
      ],
      "metadata": {
        "id": "rJp0bh7mIgx4"
      },
      "execution_count": 12,
      "outputs": []
    },
    {
      "cell_type": "markdown",
      "source": [
        "#Dynamic Programming Algorithm"
      ],
      "metadata": {
        "id": "mdqptZilXNJV"
      }
    },
    {
      "cell_type": "code",
      "source": [
        "def fibonnaci(n):\n",
        "  if n<=1:\n",
        "    return n\n",
        "  else:\n",
        "    return fibonnaci(n-1)+fibonnaci(n-2)\n",
        "    print(n)\n",
        "print(fibonnaci(9))"
      ],
      "metadata": {
        "colab": {
          "base_uri": "https://localhost:8080/"
        },
        "id": "sr263nZTRY70",
        "outputId": "b22af4e4-d94b-411d-8681-4dc9a12ea03f"
      },
      "execution_count": 21,
      "outputs": [
        {
          "output_type": "stream",
          "name": "stdout",
          "text": [
            "34\n"
          ]
        }
      ]
    }
  ]
}